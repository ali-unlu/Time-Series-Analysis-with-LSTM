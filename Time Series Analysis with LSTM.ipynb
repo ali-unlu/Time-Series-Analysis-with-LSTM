{
 "cells": [
  {
   "cell_type": "markdown",
   "metadata": {
    "id": "XtsdtB-Qax7M"
   },
   "source": [
    "# Temperature Time Series Analysis with LSTM\n",
    "\n",
    "Global warming is the ongoing rise of the average temperature of the Earth's climate system and has been demonstrated by direct temperature measurements and by measurements of various effects of the warming - Wikipedia\n",
    "\n",
    "So a dataset on the temperature of major cities of the world will help analyze the same. Also weather information is helpful for a lot of data science tasks like sales forecasting, logistics etc.\n",
    "\n",
    "I illustrated forecasting implementation with three different approaches with the same data set. This is the last one in these series using deep learning model. Initially, I started with [SARIMA model](https://github.com/ali-unlu/SARIMA-time-series-analysis/blob/main/Time%20series%20analysis.ipynb). In the second model, I used [Facebook Prophet](https://github.com/ali-unlu/Time-Series-Analysis-with-Facebook-Prophet/blob/main/Time_Series_Analysis_with_Facebook_Prophet.ipynb). So, I encouraged you to check out those posts and compare the model performances. "
   ]
  },
  {
   "cell_type": "markdown",
   "metadata": {
    "id": "YMMW030pbGM2"
   },
   "source": [
    "# 1. Data and preprocessing \n",
    "\n",
    "Data comes from Kaggle and it could be reached from [here](https://www.kaggle.com/sudalairajkumar/daily-temperature-of-major-cities). Thanks to University of Dayton, the dataset is available as separate txt files for each city. The data is available for research and non-commercial purposes only. Please refer to [this page](http://academic.udayton.edu/kissock/http/Weather/default.htm) for license.\n",
    "\n",
    " In this dataset, it includes daily average temperature values collected as Fahrenheit over different regions, countries, cities over the years from about 1995 to 2020.\n",
    "\n",
    " "
   ]
  },
  {
   "cell_type": "code",
   "execution_count": 1,
   "metadata": {
    "executionInfo": {
     "elapsed": 3188,
     "status": "ok",
     "timestamp": 1641138584389,
     "user": {
      "displayName": "Ali UNLU",
      "photoUrl": "https://lh3.googleusercontent.com/a-/AOh14GhKqR6a1d1HQOQrW3HyUUWWbuIPJUgc-NhvY0PLDnk=s64",
      "userId": "04936174070521116142"
     },
     "user_tz": -120
    },
    "id": "fEQzHsIkdZN9"
   },
   "outputs": [],
   "source": [
    "import sys, os\n",
    "import numpy as np\n",
    "import matplotlib.pyplot as plt\n",
    "import warnings\n",
    "warnings.simplefilter(action='ignore')\n",
    "\n",
    "\n",
    "from sklearn.model_selection import train_test_split\n",
    "\n",
    "import seaborn as sns\n",
    "\n",
    "import pandas as pd\n",
    "from datetime import datetime\n",
    "import tensorflow as tf\n",
    "import keras\n",
    "\n",
    "\n",
    "from keras.models import Sequential, load_model\n",
    "from keras.layers import Activation, Dense, LSTM, Dropout, GlobalMaxPooling1D, SimpleRNN\n",
    "#from keras.optimizers import Adam\n",
    "from keras.callbacks import ModelCheckpoint, EarlyStopping\n",
    "\n",
    "\n",
    "\n",
    "import math\n",
    "from sklearn.preprocessing import MinMaxScaler\n",
    "from sklearn.metrics import mean_squared_error\n"
   ]
  },
  {
   "cell_type": "code",
   "execution_count": 2,
   "metadata": {
    "executionInfo": {
     "elapsed": 6052,
     "status": "ok",
     "timestamp": 1641138592565,
     "user": {
      "displayName": "Ali UNLU",
      "photoUrl": "https://lh3.googleusercontent.com/a-/AOh14GhKqR6a1d1HQOQrW3HyUUWWbuIPJUgc-NhvY0PLDnk=s64",
      "userId": "04936174070521116142"
     },
     "user_tz": -120
    },
    "id": "2mz1UzNDIWKL"
   },
   "outputs": [],
   "source": [
    "df = pd.read_csv('city_temperature.csv', index_col=False)"
   ]
  },
  {
   "cell_type": "markdown",
   "metadata": {
    "id": "SpAg2hFzqxf-"
   },
   "source": [
    "Since the data includes many cities, I select Turkish cities. Let's see how many Turkish cities are in the data set.  "
   ]
  },
  {
   "cell_type": "code",
   "execution_count": 3,
   "metadata": {
    "colab": {
     "base_uri": "https://localhost:8080/",
     "height": 204
    },
    "executionInfo": {
     "elapsed": 1058,
     "status": "ok",
     "timestamp": 1641138594921,
     "user": {
      "displayName": "Ali UNLU",
      "photoUrl": "https://lh3.googleusercontent.com/a-/AOh14GhKqR6a1d1HQOQrW3HyUUWWbuIPJUgc-NhvY0PLDnk=s64",
      "userId": "04936174070521116142"
     },
     "user_tz": -120
    },
    "id": "X4UGI3Fzd0Dk",
    "outputId": "ac6f951f-eb80-4dc7-c9f1-3535ae6733a1"
   },
   "outputs": [
    {
     "data": {
      "text/html": [
       "<div>\n",
       "<style scoped>\n",
       "    .dataframe tbody tr th:only-of-type {\n",
       "        vertical-align: middle;\n",
       "    }\n",
       "\n",
       "    .dataframe tbody tr th {\n",
       "        vertical-align: top;\n",
       "    }\n",
       "\n",
       "    .dataframe thead th {\n",
       "        text-align: right;\n",
       "    }\n",
       "</style>\n",
       "<table border=\"1\" class=\"dataframe\">\n",
       "  <thead>\n",
       "    <tr style=\"text-align: right;\">\n",
       "      <th></th>\n",
       "      <th>Region</th>\n",
       "      <th>Country</th>\n",
       "      <th>State</th>\n",
       "      <th>City</th>\n",
       "      <th>Month</th>\n",
       "      <th>Day</th>\n",
       "      <th>Year</th>\n",
       "      <th>AvgTemperature</th>\n",
       "    </tr>\n",
       "  </thead>\n",
       "  <tbody>\n",
       "    <tr>\n",
       "      <th>1102318</th>\n",
       "      <td>Middle East</td>\n",
       "      <td>Turkey</td>\n",
       "      <td>NaN</td>\n",
       "      <td>Istanbul</td>\n",
       "      <td>1</td>\n",
       "      <td>1</td>\n",
       "      <td>1995</td>\n",
       "      <td>55.0</td>\n",
       "    </tr>\n",
       "    <tr>\n",
       "      <th>1102319</th>\n",
       "      <td>Middle East</td>\n",
       "      <td>Turkey</td>\n",
       "      <td>NaN</td>\n",
       "      <td>Istanbul</td>\n",
       "      <td>1</td>\n",
       "      <td>2</td>\n",
       "      <td>1995</td>\n",
       "      <td>57.1</td>\n",
       "    </tr>\n",
       "    <tr>\n",
       "      <th>1102320</th>\n",
       "      <td>Middle East</td>\n",
       "      <td>Turkey</td>\n",
       "      <td>NaN</td>\n",
       "      <td>Istanbul</td>\n",
       "      <td>1</td>\n",
       "      <td>3</td>\n",
       "      <td>1995</td>\n",
       "      <td>44.4</td>\n",
       "    </tr>\n",
       "    <tr>\n",
       "      <th>1102321</th>\n",
       "      <td>Middle East</td>\n",
       "      <td>Turkey</td>\n",
       "      <td>NaN</td>\n",
       "      <td>Istanbul</td>\n",
       "      <td>1</td>\n",
       "      <td>4</td>\n",
       "      <td>1995</td>\n",
       "      <td>47.6</td>\n",
       "    </tr>\n",
       "    <tr>\n",
       "      <th>1102322</th>\n",
       "      <td>Middle East</td>\n",
       "      <td>Turkey</td>\n",
       "      <td>NaN</td>\n",
       "      <td>Istanbul</td>\n",
       "      <td>1</td>\n",
       "      <td>5</td>\n",
       "      <td>1995</td>\n",
       "      <td>44.1</td>\n",
       "    </tr>\n",
       "  </tbody>\n",
       "</table>\n",
       "</div>"
      ],
      "text/plain": [
       "              Region Country State      City  Month  Day  Year  AvgTemperature\n",
       "1102318  Middle East  Turkey   NaN  Istanbul      1    1  1995            55.0\n",
       "1102319  Middle East  Turkey   NaN  Istanbul      1    2  1995            57.1\n",
       "1102320  Middle East  Turkey   NaN  Istanbul      1    3  1995            44.4\n",
       "1102321  Middle East  Turkey   NaN  Istanbul      1    4  1995            47.6\n",
       "1102322  Middle East  Turkey   NaN  Istanbul      1    5  1995            44.1"
      ]
     },
     "execution_count": 3,
     "metadata": {},
     "output_type": "execute_result"
    }
   ],
   "source": [
    "df= df[(df.Country =='Turkey') & (df.City == 'Istanbul')]\n",
    "df.head()\n"
   ]
  },
  {
   "cell_type": "markdown",
   "metadata": {
    "id": "u7-XDWg23oTc"
   },
   "source": [
    "### Missing values\n",
    "During the EDA, some values in temperature are missing (-99). Let's first check out how many variables are missing. We noticed that there are 30 values are missing and we replace then with ffill function. "
   ]
  },
  {
   "cell_type": "code",
   "execution_count": 4,
   "metadata": {
    "colab": {
     "base_uri": "https://localhost:8080/"
    },
    "executionInfo": {
     "elapsed": 274,
     "status": "ok",
     "timestamp": 1641138612920,
     "user": {
      "displayName": "Ali UNLU",
      "photoUrl": "https://lh3.googleusercontent.com/a-/AOh14GhKqR6a1d1HQOQrW3HyUUWWbuIPJUgc-NhvY0PLDnk=s64",
      "userId": "04936174070521116142"
     },
     "user_tz": -120
    },
    "id": "3BB9-QVMtcjO",
    "outputId": "ffc09476-69f4-40d3-dc36-8824018c392c"
   },
   "outputs": [
    {
     "data": {
      "text/plain": [
       "Region               0\n",
       "Country              0\n",
       "State             9266\n",
       "City                 0\n",
       "Month                0\n",
       "Day                  0\n",
       "Year                 0\n",
       "AvgTemperature      30\n",
       "dtype: int64"
      ]
     },
     "execution_count": 4,
     "metadata": {},
     "output_type": "execute_result"
    }
   ],
   "source": [
    "\"\"\"-99 is put in place of missing values. \n",
    "We will have to forward fill with the last non missing value before -99\n",
    "\"\"\"\n",
    "df[\"AvgTemperature\"] = np.where(df[\"AvgTemperature\"] == -99, np.nan, df[\"AvgTemperature\"])\n",
    "df.isnull().sum()\n",
    "\n"
   ]
  },
  {
   "cell_type": "code",
   "execution_count": 5,
   "metadata": {
    "colab": {
     "base_uri": "https://localhost:8080/"
    },
    "executionInfo": {
     "elapsed": 296,
     "status": "ok",
     "timestamp": 1641138617896,
     "user": {
      "displayName": "Ali UNLU",
      "photoUrl": "https://lh3.googleusercontent.com/a-/AOh14GhKqR6a1d1HQOQrW3HyUUWWbuIPJUgc-NhvY0PLDnk=s64",
      "userId": "04936174070521116142"
     },
     "user_tz": -120
    },
    "id": "aQkqWUln3hfd",
    "outputId": "14f2f4e4-26a5-4ade-de80-0d498e3f5b6c"
   },
   "outputs": [
    {
     "data": {
      "text/plain": [
       "Region               0\n",
       "Country              0\n",
       "State             9266\n",
       "City                 0\n",
       "Month                0\n",
       "Day                  0\n",
       "Year                 0\n",
       "AvgTemperature       0\n",
       "dtype: int64"
      ]
     },
     "execution_count": 5,
     "metadata": {},
     "output_type": "execute_result"
    }
   ],
   "source": [
    "df[\"AvgTemperature\"] = df[\"AvgTemperature\"].ffill()\n",
    "df.isnull().sum()"
   ]
  },
  {
   "cell_type": "markdown",
   "metadata": {
    "id": "nqzwEsde4yhw"
   },
   "source": [
    "### Celsius Conversion \n",
    "Finally, we can convert AvgTemperature from Fahrenhei to Celsius\n",
    "\n",
    "Formula (°F − 32) × 5/9."
   ]
  },
  {
   "cell_type": "code",
   "execution_count": 6,
   "metadata": {
    "executionInfo": {
     "elapsed": 267,
     "status": "ok",
     "timestamp": 1641138621983,
     "user": {
      "displayName": "Ali UNLU",
      "photoUrl": "https://lh3.googleusercontent.com/a-/AOh14GhKqR6a1d1HQOQrW3HyUUWWbuIPJUgc-NhvY0PLDnk=s64",
      "userId": "04936174070521116142"
     },
     "user_tz": -120
    },
    "id": "79T3W54w42zC"
   },
   "outputs": [],
   "source": [
    "df['AvgTemperature'] = (df['AvgTemperature']  -32) * 5/9 \n"
   ]
  },
  {
   "cell_type": "markdown",
   "metadata": {
    "id": "fEKKtrhNIWKQ"
   },
   "source": [
    "### Average temperature of Istanbul"
   ]
  },
  {
   "cell_type": "code",
   "execution_count": 11,
   "metadata": {
    "colab": {
     "base_uri": "https://localhost:8080/",
     "height": 594
    },
    "executionInfo": {
     "elapsed": 406,
     "status": "ok",
     "timestamp": 1641138632504,
     "user": {
      "displayName": "Ali UNLU",
      "photoUrl": "https://lh3.googleusercontent.com/a-/AOh14GhKqR6a1d1HQOQrW3HyUUWWbuIPJUgc-NhvY0PLDnk=s64",
      "userId": "04936174070521116142"
     },
     "user_tz": -120
    },
    "id": "3OHo4aQPIWKR",
    "outputId": "179be9b9-2866-48bb-dc55-1b6003d3b865"
   },
   "outputs": [
    {
     "data": {
      "image/png": "[encoded data removed]",
      "text/plain": [
       "<Figure size 576x720 with 1 Axes>"
      ]
     },
     "metadata": {
      "needs_background": "light"
     },
     "output_type": "display_data"
    }
   ],
   "source": [
    "plt.figure(figsize = (8,10))\n",
    "sns.boxplot(data = df,y = 'AvgTemperature')\n",
    "_=plt.title(\"Boxplot of Average Temperature\")"
   ]
  },
  {
   "cell_type": "markdown",
   "metadata": {
    "id": "Hrz0PToifEy-"
   },
   "source": [
    "So, basically the average temperature for Istanbul is around 15 C changing seasonally. "
   ]
  },
  {
   "cell_type": "markdown",
   "metadata": {
    "id": "nGb40kvFq-eO"
   },
   "source": [
    "### Date process\n",
    "\n",
    "The Year, Month and Day comes as a separate column, I merged them and create a new date variable. "
   ]
  },
  {
   "cell_type": "code",
   "execution_count": 12,
   "metadata": {
    "colab": {
     "base_uri": "https://localhost:8080/",
     "height": 204
    },
    "executionInfo": {
     "elapsed": 299,
     "status": "ok",
     "timestamp": 1641138719019,
     "user": {
      "displayName": "Ali UNLU",
      "photoUrl": "https://lh3.googleusercontent.com/a-/AOh14GhKqR6a1d1HQOQrW3HyUUWWbuIPJUgc-NhvY0PLDnk=s64",
      "userId": "04936174070521116142"
     },
     "user_tz": -120
    },
    "id": "MD-Itug3IWKS",
    "outputId": "22d75752-6662-4e1c-b04f-592f7c1ba978"
   },
   "outputs": [],
   "source": [
    "def make_date(row):\n",
    "    return datetime(year = row['Year'], month = row['Month'], day = row['Day'])\n",
    "\n",
    "\n",
    "df['date'] = df.apply(make_date,axis=1)\n",
    "df.set_index(df.date,inplace=True)"
   ]
  },
  {
   "cell_type": "markdown",
   "metadata": {},
   "source": [
    "Let's just look at the temperature change in Istanbul. "
   ]
  },
  {
   "cell_type": "code",
   "execution_count": 13,
   "metadata": {},
   "outputs": [
    {
     "data": {
      "text/plain": [
       "<AxesSubplot:xlabel='date'>"
      ]
     },
     "execution_count": 13,
     "metadata": {},
     "output_type": "execute_result"
    },
    {
     "data": {
      "image/png": "[encoded data removed]",
      "text/plain": [
       "<Figure size 1080x360 with 1 Axes>"
      ]
     },
     "metadata": {
      "needs_background": "light"
     },
     "output_type": "display_data"
    }
   ],
   "source": [
    "#quick plot of full time series\n",
    "plt.figure(figsize = (15,5))\n",
    "df[df['City'] == 'Istanbul']['AvgTemperature'].plot()"
   ]
  },
  {
   "cell_type": "code",
   "execution_count": 14,
   "metadata": {},
   "outputs": [
    {
     "data": {
      "text/html": [
       "<div>\n",
       "<style scoped>\n",
       "    .dataframe tbody tr th:only-of-type {\n",
       "        vertical-align: middle;\n",
       "    }\n",
       "\n",
       "    .dataframe tbody tr th {\n",
       "        vertical-align: top;\n",
       "    }\n",
       "\n",
       "    .dataframe thead th {\n",
       "        text-align: right;\n",
       "    }\n",
       "</style>\n",
       "<table border=\"1\" class=\"dataframe\">\n",
       "  <thead>\n",
       "    <tr style=\"text-align: right;\">\n",
       "      <th></th>\n",
       "      <th>date</th>\n",
       "      <th>AvgTemperature</th>\n",
       "    </tr>\n",
       "    <tr>\n",
       "      <th>date</th>\n",
       "      <th></th>\n",
       "      <th></th>\n",
       "    </tr>\n",
       "  </thead>\n",
       "  <tbody>\n",
       "    <tr>\n",
       "      <th>1995-01-01</th>\n",
       "      <td>1995-01-01</td>\n",
       "      <td>12.777778</td>\n",
       "    </tr>\n",
       "    <tr>\n",
       "      <th>1995-01-02</th>\n",
       "      <td>1995-01-02</td>\n",
       "      <td>13.944444</td>\n",
       "    </tr>\n",
       "    <tr>\n",
       "      <th>1995-01-03</th>\n",
       "      <td>1995-01-03</td>\n",
       "      <td>6.888889</td>\n",
       "    </tr>\n",
       "    <tr>\n",
       "      <th>1995-01-04</th>\n",
       "      <td>1995-01-04</td>\n",
       "      <td>8.666667</td>\n",
       "    </tr>\n",
       "    <tr>\n",
       "      <th>1995-01-05</th>\n",
       "      <td>1995-01-05</td>\n",
       "      <td>6.722222</td>\n",
       "    </tr>\n",
       "  </tbody>\n",
       "</table>\n",
       "</div>"
      ],
      "text/plain": [
       "                 date  AvgTemperature\n",
       "date                                 \n",
       "1995-01-01 1995-01-01       12.777778\n",
       "1995-01-02 1995-01-02       13.944444\n",
       "1995-01-03 1995-01-03        6.888889\n",
       "1995-01-04 1995-01-04        8.666667\n",
       "1995-01-05 1995-01-05        6.722222"
      ]
     },
     "execution_count": 14,
     "metadata": {},
     "output_type": "execute_result"
    }
   ],
   "source": [
    "df2= df[['date', 'AvgTemperature']]\n",
    "df2.head()"
   ]
  },
  {
   "cell_type": "markdown",
   "metadata": {
    "id": "gKXVdJ3QrKqu"
   },
   "source": [
    "We do not need all columns, so I only select temperature and date columns from the data set. I also make data column as the index. Here is the head and tail of the data set. "
   ]
  },
  {
   "cell_type": "markdown",
   "metadata": {},
   "source": [
    "## Subsetting dates\n",
    "As usual, it's a good idea for us to generate a run-sequence plot before modeling the data. This way we can get a feel for what we're working with. We'll go ahead and define two utility functions that let us extract and plot the last  𝑛  days of data.\n",
    "\n",
    "Here, I show the last 120 days of temperature in Istanbul. Since it started in January, the temperature increased contitniously. "
   ]
  },
  {
   "cell_type": "code",
   "execution_count": 15,
   "metadata": {},
   "outputs": [],
   "source": [
    "def get_n_last_days(df, n_days):\n",
    "    \"\"\"\n",
    "    Extract last n_days \n",
    "    \"\"\"\n",
    "    \n",
    "    return df['AvgTemperature'][- n_days:] \n",
    "\n",
    "def plot_n_last_days(df, n_days):\n",
    "    \"\"\"\n",
    "    Plot last n_days\n",
    "    \"\"\"\n",
    "    plt.figure(figsize = (10,5))   \n",
    "    plt.plot(get_n_last_days(df,  n_days), 'k-') # call the previous function\n",
    "    plt.title('Air Quality Time Series - {} days'\n",
    "              .format( n_days))\n",
    "    plt.xlabel('Recorded daily')\n",
    "    plt.ylabel('Reading')\n",
    "    plt.grid(alpha=0.3)"
   ]
  },
  {
   "cell_type": "code",
   "execution_count": 16,
   "metadata": {},
   "outputs": [
    {
     "data": {
      "image/png": "[encoded data removed]",
      "text/plain": [
       "<Figure size 720x360 with 1 Axes>"
      ]
     },
     "metadata": {
      "needs_background": "light"
     },
     "output_type": "display_data"
    }
   ],
   "source": [
    "plot_n_last_days(df2, 120)"
   ]
  },
  {
   "cell_type": "markdown",
   "metadata": {},
   "source": [
    "# Keras data structure\n",
    "\n",
    "Before we can train a neural network with keras, we need to process the data into a format that the library accepts. In particular, for keras RNNs and LSTMs, training samples should be stored in a 3D numpy array of shape **(n_samples, time_steps, n_features)**. Since we'll be using only the series' history to predict its future, we'll only have 1 feature. Also, for the next-step prediction that we'll do in this notebook, target values can be stored in a simple list.\n",
    "\n",
    "To this end, we define utility functions that allow us to extract the formatted data. The **get_train_test_data** function gives us the flexibility to define the length of the extracted training and test sequences and the number of time steps to use for prediction -- we'll run simple tests of our models by holding out the end of the extracted sequence and generating predictions to compare against the ground truth.\n",
    "\n",
    "Since our model will perform better with multiple training samples, we draw many slices from the entire training sequence, starting at different points in time. The gap between starting points of these slices is controlled by the **sample_gap** parameter."
   ]
  },
  {
   "cell_type": "code",
   "execution_count": 99,
   "metadata": {},
   "outputs": [],
   "source": [
    "def get_keras_format_series(series): # if you want to add feature, you can mention here\n",
    "    \"\"\"\n",
    "    Convert a series to a numpy array of shape \n",
    "    [n_samples, time_steps, features]\n",
    "    \"\"\"\n",
    "    \n",
    "    series = np.array(series)\n",
    "    return series.reshape(series.shape[0], series.shape[1], 1) \n",
    "\n",
    "def get_train_test_data(df, series_days, input_days, \n",
    "                        test_days, sample_gap=3): \n",
    "    \"\"\"\n",
    "    Utility processing function that splits a daily time series into \n",
    "    train and test with keras-friendly format, according to user-specified\n",
    "    choice of shape.    \n",
    "    \n",
    "    arguments\n",
    "    ---------\n",
    "    df (dataframe): dataframe with time series columns\n",
    "    series_name (string): column name in df\n",
    "    series_days (int): total days to extract\n",
    "    input_day (int): length of sequence input to network \n",
    "    test_days (int): length of held-out terminal sequence\n",
    "    sample_gap (int): step size between start of train sequences; default 5\n",
    "    \n",
    "    returns\n",
    "    ---------\n",
    "    tuple: train_X, test_X_init, train_y, test_y     \n",
    "    \"\"\"\n",
    "    \n",
    "    forecast_series = get_n_last_days(df, series_days).values # reducing our forecast series to last n days\n",
    "\n",
    "    train = forecast_series[:-test_days] # training data is remaining days until amount of test_days\n",
    "    test = forecast_series[-test_days:] # test data is the remaining test_days\n",
    "\n",
    "    train_X, train_y = [], []\n",
    "\n",
    "    # range 0 through # of train samples - input_daily by sample_gap. \n",
    "    # This is to create many samples with corresponding\n",
    "    for i in range(0, train.shape[0]-input_days, sample_gap): # \n",
    "        train_X.append(train[i:i+input_days]) # each training sample is of length input daily\n",
    "        train_y.append(train[i+input_days]) # each y is just the next step after training sample\n",
    "\n",
    "    train_X = get_keras_format_series(train_X) # format our new training set to keras format\n",
    "    train_y = np.array(train_y) # make sure y is an array to work properly with keras\n",
    "    \n",
    "    # The set that we had held out for testing (must be same length as original train input)\n",
    "    test_X_init = test[:input_days] \n",
    "    test_y = test[input_days:] # test_y is remaining values from test set\n",
    "    \n",
    "    return train_X, test_X_init, train_y, test_y"
   ]
  },
  {
   "cell_type": "markdown",
   "metadata": {},
   "source": [
    "With the get_train_test_data utility function in hand, we're all set to extract keras-friendly arrays and start training simple RNN models. We run this function in the cell below. We use the last 720 days of the temmperature, and will train a model that takes in 7 time steps (weekly) in order to predict the next time step. We use the last day of data for visually testing the model."
   ]
  },
  {
   "cell_type": "code",
   "execution_count": 159,
   "metadata": {},
   "outputs": [],
   "source": [
    "series_days = 1460 # how many days we pull from data\n",
    "\n",
    "input_days = 7 # \n",
    "test_days = 14 # \n",
    "\n",
    "train_X, test_X_init, train_y, test_y = \\\n",
    "    (get_train_test_data(df2,  series_days, \n",
    "                         input_days, test_days))"
   ]
  },
  {
   "cell_type": "code",
   "execution_count": 160,
   "metadata": {},
   "outputs": [
    {
     "data": {
      "text/plain": [
       "(480,)"
      ]
     },
     "execution_count": 160,
     "metadata": {},
     "output_type": "execute_result"
    }
   ],
   "source": [
    "train_y.shape"
   ]
  },
  {
   "cell_type": "markdown",
   "metadata": {},
   "source": [
    "Below we see that by taking multiple time slices, we get 436 training samples of 12 time steps each. "
   ]
  },
  {
   "cell_type": "code",
   "execution_count": 161,
   "metadata": {},
   "outputs": [
    {
     "name": "stdout",
     "output_type": "stream",
     "text": [
      "Training input shape: (480, 7, 1)\n",
      "Training output shape: (480,)\n",
      "Test input shape: (7,)\n",
      "Test output shape: (7,)\n"
     ]
    }
   ],
   "source": [
    "print('Training input shape: {}'.format(train_X.shape))\n",
    "print('Training output shape: {}'.format(train_y.shape))\n",
    "print('Test input shape: {}'.format(test_X_init.shape))\n",
    "print('Test output shape: {}'.format(test_y.shape))"
   ]
  },
  {
   "cell_type": "markdown",
   "metadata": {},
   "source": [
    "# Simple RNN Model\n",
    "\n",
    "And now we're ready to train! Since we'd like to repeatedly adjust our model's hyperparameters to see what works best, we'll write a reusable function for training a simple RNN model using keras. Take some time to understand what the keras syntax accomplishes at each step and how it relates to what we've learned about RNNs so far."
   ]
  },
  {
   "cell_type": "code",
   "execution_count": 162,
   "metadata": {},
   "outputs": [],
   "source": [
    "def fit_SimpleRNN(train_X, train_y, cell_units, epochs):\n",
    "    \"\"\"\n",
    "    Fit Simple RNN to data train_X, train_y \n",
    "    \n",
    "    arguments\n",
    "    ---------\n",
    "    train_X (array): input sequence samples for training \n",
    "    train_y (list): next step in sequence targets\n",
    "    cell_units (int): number of hidden units for RNN cells  \n",
    "    epochs (int): number of training epochs   \n",
    "    \"\"\"\n",
    "\n",
    "    # initialize model\n",
    "    model = Sequential() \n",
    "    \n",
    "    # construct an RNN layer with specified number of hidden units\n",
    "    # per cell and desired sequence input format \n",
    "    model.add(SimpleRNN(cell_units, input_shape=(train_X.shape[1],1)))\n",
    "    \n",
    "    # add an output layer to make final predictions \n",
    "    model.add(Dense(1))\n",
    "    \n",
    "    # define the loss function / optimization strategy, and fit\n",
    "    # the model with the desired number of passes over the data (epochs) \n",
    "    model.compile(loss='mean_squared_error', optimizer='adam')\n",
    "    model.fit(train_X, train_y, epochs=epochs, batch_size=64, verbose=0)\n",
    "    \n",
    "    return model"
   ]
  },
  {
   "cell_type": "markdown",
   "metadata": {},
   "source": [
    "__Model fit:__ Now let's use this function to fit a very simple baseline model."
   ]
  },
  {
   "cell_type": "code",
   "execution_count": 163,
   "metadata": {},
   "outputs": [],
   "source": [
    "model = fit_SimpleRNN(train_X, train_y, cell_units=10, epochs=10)"
   ]
  },
  {
   "cell_type": "markdown",
   "metadata": {},
   "source": [
    "**Prediction:** Now, we need to extract multi-step predictions from this model, as it was trained to predict only one future time step. For multi-step forecasting, we'll iteratively generate one prediction, append it to the end of the input sequence (and shift that sequence forward by one step), then feed the new sequence back to the model. We stop once we've generated all the time step predictions we need.\n",
    "\n",
    "This prediction method and a utility function for plotting its output against the ground truth are defined below. Take some time time to familiarize yourself with the prediction method.\n"
   ]
  },
  {
   "cell_type": "code",
   "execution_count": 164,
   "metadata": {},
   "outputs": [],
   "source": [
    "def predict(X_init, n_steps, model):\n",
    "    \"\"\"\n",
    "    Given an input series matching the model's expected format,\n",
    "    generates model's predictions for next n_steps in the series      \n",
    "    \"\"\"\n",
    "    \n",
    "    X_init = X_init.copy().reshape(1,-1,1)\n",
    "    preds = []\n",
    "    \n",
    "    # iteratively take current input sequence, generate next step pred,\n",
    "    # and shift input sequence forward by a step (to end with latest pred).\n",
    "    # collect preds as we go.\n",
    "    for _ in range(n_steps):\n",
    "        pred = model.predict(X_init)\n",
    "        preds.append(pred)\n",
    "        X_init[:,:-1,:] = X_init[:,1:,:] # replace first 11 values with 2nd through 12th\n",
    "        X_init[:,-1,:] = pred # replace 12th value with prediction\n",
    "    \n",
    "    preds = np.array(preds).reshape(-1,1)\n",
    "    \n",
    "    return preds\n",
    "\n",
    "def predict_and_plot(X_init, y, model, title):\n",
    "    \"\"\"\n",
    "    Given an input series matching the model's expected format,\n",
    "    generates model's predictions for next n_steps in the series,\n",
    "    and plots these predictions against the ground truth for those steps \n",
    "    \n",
    "    arguments\n",
    "    ---------\n",
    "    X_init (array): initial sequence, must match model's input shape\n",
    "    y (array): true sequence values to predict, follow X_init\n",
    "    model (keras.models.Sequential): trained neural network\n",
    "    title (string): plot title   \n",
    "    \"\"\"\n",
    "    \n",
    "    y_preds = predict(test_X_init, n_steps=len(y), model=model) # predict through length of y\n",
    "    # Below ranges are to set x-axes\n",
    "    start_range = range(1, test_X_init.shape[0]+1) #starting at one through to length of test_X_init to plot X_init\n",
    "    predict_range = range(test_X_init.shape[0], test_days)  #predict range is going to be from end of X_init to length of test_days\n",
    "    \n",
    "    #using our ranges we plot X_init\n",
    "    plt.plot(start_range, test_X_init)\n",
    "    #and test and actual preds\n",
    "    plt.plot(predict_range, test_y, color='orange')\n",
    "    plt.plot(predict_range, y_preds, color='teal', linestyle='--')\n",
    "    \n",
    "    plt.title(title)\n",
    "    plt.legend(['Initial Series','Target Series','Predictions'])"
   ]
  },
  {
   "cell_type": "markdown",
   "metadata": {},
   "source": [
    "**Plot :** Ok, we've finally arrived at the time to see how our baseline model does. We can simply run the predict_and_plot function on the extracted test data as below, and inspect the resulting plot."
   ]
  },
  {
   "cell_type": "code",
   "execution_count": 165,
   "metadata": {},
   "outputs": [
    {
     "data": {
      "image/png": "[encoded data removed]",
      "text/plain": [
       "<Figure size 432x288 with 1 Axes>"
      ]
     },
     "metadata": {
      "needs_background": "light"
     },
     "output_type": "display_data"
    }
   ],
   "source": [
    "predict_and_plot(test_X_init, test_y, model,\n",
    "                 'PM Series: Test Data and Simple RNN Predictions')"
   ]
  },
  {
   "cell_type": "markdown",
   "metadata": {},
   "source": [
    "It looks like our model is badly underfit and essentially just making constant predictions. That's ok, it was a very simple baseline and trained very quickly.\n",
    "We can improve by making the model more expressive, increasing cell_units. We can also pass over the training data many more times, increasing epochs, giving the model more opportunity to learn the patterns in the data. We'll try that below, it takes a longer time now since our training is more extensive.\n",
    "Note that there is a significant amount of randomness in neural network training - we may need to retrain the model a few times in order to get results that we're happy with."
   ]
  },
  {
   "cell_type": "code",
   "execution_count": 174,
   "metadata": {},
   "outputs": [
    {
     "data": {
      "image/png": "[encoded data removed]",
      "text/plain": [
       "<Figure size 432x288 with 1 Axes>"
      ]
     },
     "metadata": {
      "needs_background": "light"
     },
     "output_type": "display_data"
    }
   ],
   "source": [
    "model = fit_SimpleRNN(train_X, train_y, cell_units=50, epochs=4100) # \n",
    "predict_and_plot(test_X_init, test_y, model,\n",
    "                 'Temperature: Test Data and Simple RNN Predictions')"
   ]
  },
  {
   "cell_type": "markdown",
   "metadata": {},
   "source": [
    "We can definitely get better results than before. Note that the model has the capacity to forecast an upward trend based on the trough pattern that occured recently (the input sequence). It seems that our model is better to predict a week long temperature. \n",
    "\n",
    "**Model Summary:** Once we've created a model object, we can also get information about its structure and number of parameters by using the summary function. This is a useful way to measure the complexity of the model and get a feel for how long it may take to train."
   ]
  },
  {
   "cell_type": "code",
   "execution_count": 175,
   "metadata": {},
   "outputs": [
    {
     "name": "stdout",
     "output_type": "stream",
     "text": [
      "Model: \"sequential_88\"\n",
      "_________________________________________________________________\n",
      "Layer (type)                 Output Shape              Param #   \n",
      "=================================================================\n",
      "simple_rnn_80 (SimpleRNN)    (None, 50)                2600      \n",
      "_________________________________________________________________\n",
      "dense_84 (Dense)             (None, 1)                 51        \n",
      "=================================================================\n",
      "Total params: 2,651\n",
      "Trainable params: 2,651\n",
      "Non-trainable params: 0\n",
      "_________________________________________________________________\n"
     ]
    }
   ],
   "source": [
    "model.summary()"
   ]
  },
  {
   "cell_type": "markdown",
   "metadata": {},
   "source": [
    "Note that even for this relatively simple model, we already have almost a thousand parameters to train. A larger number of cell units would increase the number of parameters - this is why the training process can become so time consuming."
   ]
  },
  {
   "cell_type": "markdown",
   "metadata": {},
   "source": [
    "# LSTM Model\n",
    "\n",
    "In this section, we'll build on our previous work by introducing LSTM models as an enhancement to the RNNs we've trained so far. Our first step will be to write a new function for fitting an LSTM with keras - notice that it's almost the same as our simple RNN function, with LSTM substitued for SimpleRNN (this is a nice display of how flexible keras is)."
   ]
  },
  {
   "cell_type": "code",
   "execution_count": 196,
   "metadata": {},
   "outputs": [],
   "source": [
    "def fit_LSTM(train_X, train_y, cell_units, epochs):\n",
    "    \"\"\"\n",
    "    Fit LSTM to data train_X, train_y \n",
    "    \n",
    "    arguments\n",
    "    ---------\n",
    "    train_X (array): input sequence samples for training \n",
    "    train_y (list): next step in sequence targets\n",
    "    cell_units (int): number of hidden units for LSTM cells  \n",
    "    epochs (int): number of training epochs   \n",
    "    \"\"\"\n",
    "    \n",
    "    # initialize model\n",
    "    model = Sequential() \n",
    "    \n",
    "    # construct a LSTM layer with specified number of hidden units\n",
    "    # per cell and desired sequence input format \n",
    "    model.add(LSTM(cell_units, input_shape=(train_X.shape[1],1)))\n",
    "\n",
    "\n",
    "    \n",
    "    # add an output layer to make final predictions\n",
    "    model.add(Dense(1))\n",
    "    \n",
    "    # define the loss function / optimization strategy, and fit\n",
    "    # the model with the desired number of passes over the data (epochs) \n",
    "    model.compile(loss='mean_squared_error', optimizer='adam')\n",
    "    model.fit(train_X, train_y, epochs=epochs, batch_size=64, verbose=0)\n",
    "    \n",
    "    return model"
   ]
  },
  {
   "cell_type": "markdown",
   "metadata": {},
   "source": [
    "With our new LSTM training function and all of our previously defined utility functions, adapting our code for LSTM forecasting will be fairly simple. We can extract the data as we did before, call the fit_LSTM function to build a model, and run the same predict_and_plot code.\n",
    "\n",
    "One of the key benefits of LSTMs over simple RNNs is that they are better equipped to handle long input sequences and long-term dependencies. To see this evidence of this, we'll set input_days to 7 and test_days to 14 and see how our model predictions turn out with LSTM. I will use the same parameters to see whether the results differ. "
   ]
  },
  {
   "cell_type": "code",
   "execution_count": 197,
   "metadata": {},
   "outputs": [
    {
     "data": {
      "image/png": "[encoded data removed]",
      "text/plain": [
       "<Figure size 432x288 with 1 Axes>"
      ]
     },
     "metadata": {
      "needs_background": "light"
     },
     "output_type": "display_data"
    }
   ],
   "source": [
    "series_days = 1460 # 4 years\n",
    "input_days = 7\n",
    "test_days = 14\n",
    "\n",
    "train_X, test_X_init, train_y, test_y = \\\n",
    "    (get_train_test_data(df2, series_days, \n",
    "                         input_days, test_days))\n",
    "\n",
    "model = fit_LSTM(train_X, train_y, cell_units=50,  epochs=4100) \n",
    "\n",
    "predict_and_plot(test_X_init, test_y, model, \n",
    "                 'Temperature: Test Data and LSTM Predictions')"
   ]
  },
  {
   "cell_type": "code",
   "execution_count": 198,
   "metadata": {},
   "outputs": [
    {
     "name": "stdout",
     "output_type": "stream",
     "text": [
      "Model: \"sequential_98\"\n",
      "_________________________________________________________________\n",
      "Layer (type)                 Output Shape              Param #   \n",
      "=================================================================\n",
      "lstm_27 (LSTM)               (None, 50)                10400     \n",
      "_________________________________________________________________\n",
      "dense_94 (Dense)             (None, 1)                 51        \n",
      "=================================================================\n",
      "Total params: 10,451\n",
      "Trainable params: 10,451\n",
      "Non-trainable params: 0\n",
      "_________________________________________________________________\n"
     ]
    }
   ],
   "source": [
    "model.summary()"
   ]
  },
  {
   "cell_type": "markdown",
   "metadata": {},
   "source": [
    "**Model Tuning:** Here I included here couple of more layers. First, I added one more LSTM layer and then two output layers. Moreoever, I also reduced the batch size. Depending on your computer power, you can play with cell sizes and epochs. "
   ]
  },
  {
   "cell_type": "code",
   "execution_count": 199,
   "metadata": {},
   "outputs": [],
   "source": [
    "def fit_LSTM(train_X, train_y, cell_units, cell_units_l2,  epochs):\n",
    "    \"\"\"\n",
    "    Fit LSTM to data train_X, train_y \n",
    "    \n",
    "    arguments\n",
    "    ---------\n",
    "    train_X (array): input sequence samples for training \n",
    "    train_y (list): next step in sequence targets\n",
    "    cell_units (int): number of hidden units for LSTM cells  \n",
    "    epochs (int): number of training epochs   \n",
    "    \"\"\"\n",
    "    \n",
    "    # initialize model\n",
    "    model = Sequential() \n",
    "    \n",
    "    # construct a LSTM layer with specified number of hidden units\n",
    "    # per cell and desired sequence input format \n",
    "    model.add(LSTM(cell_units, input_shape=(train_X.shape[1],1),return_sequences= True))\n",
    "    model.add(LSTM(cell_units_l2, input_shape=(train_X.shape[1],1), return_sequences= True))\n",
    "\n",
    "\n",
    "    \n",
    "    # add an output layer to make final predictions\n",
    "    model.add(GlobalMaxPooling1D())# yeni\n",
    "    model.add(Dropout(0.25))# yeni\n",
    "    model.add(Dense(1))\n",
    "    \n",
    "    # define the loss function / optimization strategy, and fit\n",
    "    # the model with the desired number of passes over the data (epochs) \n",
    "    model.compile(loss='mean_squared_error', optimizer='adam')\n",
    "    model.fit(train_X, train_y, epochs=epochs, batch_size=20, verbose=0)\n",
    "    \n",
    "    return model"
   ]
  },
  {
   "cell_type": "code",
   "execution_count": 200,
   "metadata": {},
   "outputs": [
    {
     "data": {
      "image/png": "[encoded data removed]",
      "text/plain": [
       "<Figure size 432x288 with 1 Axes>"
      ]
     },
     "metadata": {
      "needs_background": "light"
     },
     "output_type": "display_data"
    }
   ],
   "source": [
    "series_days = 8000 # \n",
    "input_days = 7\n",
    "test_days = 21\n",
    "\n",
    "train_X, test_X_init, train_y, test_y = \\\n",
    "    (get_train_test_data(df2, series_days, \n",
    "                         input_days, test_days))\n",
    "\n",
    "model = fit_LSTM(train_X, train_y, cell_units=80,cell_units_l2=80,  epochs=8000) \n",
    "\n",
    "predict_and_plot(test_X_init, test_y, model, \n",
    "                 'Temperature: Test Data and LSTM Predictions')"
   ]
  },
  {
   "cell_type": "markdown",
   "metadata": {},
   "source": [
    "In our prediction plot we can start to see how LSTMs can be more expressive than simple RNNs - instead of just extrapolating a simple trend like our previous RNN models did, this LSTM model can effectively anticipate inflection points.\n",
    "You should also notice that our model starts to struggle toward the end of the predicted sequence, becoming more conservative in its predictions. To improve the quality of forecasts over many time steps, we'd likely need to use more data and more sophisticated LSTM model structures.\n",
    "Take a look at the model summary and compare it with the summary for our simple RNN from example 1. You can see that there are many more trainable parameters for the LSTM, which explains why it took a much longer time for us to train this model."
   ]
  },
  {
   "cell_type": "code",
   "execution_count": 201,
   "metadata": {},
   "outputs": [
    {
     "name": "stdout",
     "output_type": "stream",
     "text": [
      "Model: \"sequential_99\"\n",
      "_________________________________________________________________\n",
      "Layer (type)                 Output Shape              Param #   \n",
      "=================================================================\n",
      "lstm_28 (LSTM)               (None, 7, 80)             26240     \n",
      "_________________________________________________________________\n",
      "lstm_29 (LSTM)               (None, 7, 80)             51520     \n",
      "_________________________________________________________________\n",
      "global_max_pooling1d_9 (Glob (None, 80)                0         \n",
      "_________________________________________________________________\n",
      "dropout_6 (Dropout)          (None, 80)                0         \n",
      "_________________________________________________________________\n",
      "dense_95 (Dense)             (None, 1)                 81        \n",
      "=================================================================\n",
      "Total params: 77,841\n",
      "Trainable params: 77,841\n",
      "Non-trainable params: 0\n",
      "_________________________________________________________________\n"
     ]
    }
   ],
   "source": [
    "model.summary()"
   ]
  },
  {
   "cell_type": "markdown",
   "metadata": {},
   "source": [
    "### Further Exploration\n",
    "\n",
    "The simple models we've worked with are only the tip of the iceberg for deep learning. We've been time-limited for this exercise, and typical deep learning models involve much longer training times than what we're able to do in this notebook. You can easily implement the model till the last model, it is pretty straight forward but for the last model, you need time and a strong computer. \n",
    "\n",
    "Here are several __suggestions__ for how you could explore these ideas further, leveraging the code we've implemented today:\n",
    "- Try using longer chunks of the series we've looked at in this notebook for modeling (set series_days larger than 4 years), or modeling other series in the dataset.\n",
    "- When training with more data, try increasing cell_units and running more training epochs.\n",
    "- Try using longer input sequences with LSTM, and predicting a wider range of test days."
   ]
  },
  {
   "cell_type": "markdown",
   "metadata": {},
   "source": [
    "# Summary \n",
    "\n",
    "**In this post we have covered:**\n",
    "- How recurrent neural networks can be applied to sequence forecasting problems  \n",
    "- How simple RNNs and LSTMs can be built and trained using the python library keras  \n",
    "- The importance of tuning network parameters, and an introductory strategy for doing so  "
   ]
  }
 ],
 "metadata": {
  "colab": {
   "collapsed_sections": [],
   "name": "Time Series Analysis with Facebook Prophet.ipynb",
   "provenance": []
  },
  "kernelspec": {
   "display_name": "Python 3 (ipykernel)",
   "language": "python",
   "name": "python3"
  },
  "language_info": {
   "codemirror_mode": {
    "name": "ipython",
    "version": 3
   },
   "file_extension": ".py",
   "mimetype": "text/x-python",
   "name": "python",
   "nbconvert_exporter": "python",
   "pygments_lexer": "ipython3",
   "version": "3.9.7"
  },
  "widgets": {
   "application/vnd.jupyter.widget-state+json": {
    "0da543ff367d4a70bf78ab0162d4a0ab": {
     "model_module": "@jupyter-widgets/base",
     "model_module_version": "1.2.0",
     "model_name": "LayoutModel",
     "state": {
      "_model_module": "@jupyter-widgets/base",
      "_model_module_version": "1.2.0",
      "_model_name": "LayoutModel",
      "_view_count": null,
      "_view_module": "@jupyter-widgets/base",
      "_view_module_version": "1.2.0",
      "_view_name": "LayoutView",
      "align_content": null,
      "align_items": null,
      "align_self": null,
      "border": null,
      "bottom": null,
      "display": null,
      "flex": null,
      "flex_flow": null,
      "grid_area": null,
      "grid_auto_columns": null,
      "grid_auto_flow": null,
      "grid_auto_rows": null,
      "grid_column": null,
      "grid_gap": null,
      "grid_row": null,
      "grid_template_areas": null,
      "grid_template_columns": null,
      "grid_template_rows": null,
      "height": null,
      "justify_content": null,
      "justify_items": null,
      "left": null,
      "margin": null,
      "max_height": null,
      "max_width": null,
      "min_height": null,
      "min_width": null,
      "object_fit": null,
      "object_position": null,
      "order": null,
      "overflow": null,
      "overflow_x": null,
      "overflow_y": null,
      "padding": null,
      "right": null,
      "top": null,
      "visibility": null,
      "width": null
     }
    },
    "124d9a8afc234f47bedfe019f0775f32": {
     "model_module": "@jupyter-widgets/controls",
     "model_module_version": "1.5.0",
     "model_name": "DescriptionStyleModel",
     "state": {
      "_model_module": "@jupyter-widgets/controls",
      "_model_module_version": "1.5.0",
      "_model_name": "DescriptionStyleModel",
      "_view_count": null,
      "_view_module": "@jupyter-widgets/base",
      "_view_module_version": "1.2.0",
      "_view_name": "StyleView",
      "description_width": ""
     }
    },
    "1e8455c814de4a8f9234876b87abc9f7": {
     "model_module": "@jupyter-widgets/controls",
     "model_module_version": "1.5.0",
     "model_name": "ProgressStyleModel",
     "state": {
      "_model_module": "@jupyter-widgets/controls",
      "_model_module_version": "1.5.0",
      "_model_name": "ProgressStyleModel",
      "_view_count": null,
      "_view_module": "@jupyter-widgets/base",
      "_view_module_version": "1.2.0",
      "_view_name": "StyleView",
      "bar_color": null,
      "description_width": ""
     }
    },
    "69447280bd9140bd8cec76c6da6c460b": {
     "model_module": "@jupyter-widgets/controls",
     "model_module_version": "1.5.0",
     "model_name": "FloatProgressModel",
     "state": {
      "_dom_classes": [],
      "_model_module": "@jupyter-widgets/controls",
      "_model_module_version": "1.5.0",
      "_model_name": "FloatProgressModel",
      "_view_count": null,
      "_view_module": "@jupyter-widgets/controls",
      "_view_module_version": "1.5.0",
      "_view_name": "ProgressView",
      "bar_style": "success",
      "description": "",
      "description_tooltip": null,
      "layout": "IPY_MODEL_0da543ff367d4a70bf78ab0162d4a0ab",
      "max": 3,
      "min": 0,
      "orientation": "horizontal",
      "style": "IPY_MODEL_1e8455c814de4a8f9234876b87abc9f7",
      "value": 3
     }
    },
    "6ee0f9befb414ceeb84d0298fbb9c5f9": {
     "model_module": "@jupyter-widgets/controls",
     "model_module_version": "1.5.0",
     "model_name": "HBoxModel",
     "state": {
      "_dom_classes": [],
      "_model_module": "@jupyter-widgets/controls",
      "_model_module_version": "1.5.0",
      "_model_name": "HBoxModel",
      "_view_count": null,
      "_view_module": "@jupyter-widgets/controls",
      "_view_module_version": "1.5.0",
      "_view_name": "HBoxView",
      "box_style": "",
      "children": [
       "IPY_MODEL_782fd581cccb46318bd7c23f75131df4",
       "IPY_MODEL_69447280bd9140bd8cec76c6da6c460b",
       "IPY_MODEL_914b5dde13ef404388a084d7fe7afd60"
      ],
      "layout": "IPY_MODEL_d9587e7ab2a74bf9864138eefc1ad532"
     }
    },
    "782fd581cccb46318bd7c23f75131df4": {
     "model_module": "@jupyter-widgets/controls",
     "model_module_version": "1.5.0",
     "model_name": "HTMLModel",
     "state": {
      "_dom_classes": [],
      "_model_module": "@jupyter-widgets/controls",
      "_model_module_version": "1.5.0",
      "_model_name": "HTMLModel",
      "_view_count": null,
      "_view_module": "@jupyter-widgets/controls",
      "_view_module_version": "1.5.0",
      "_view_name": "HTMLView",
      "description": "",
      "description_tooltip": null,
      "layout": "IPY_MODEL_d1dc1617eb4e4a33b386395ffc2319a3",
      "placeholder": "​",
      "style": "IPY_MODEL_124d9a8afc234f47bedfe019f0775f32",
      "value": "100%"
     }
    },
    "833e3509377c404d932eac865b43f8df": {
     "model_module": "@jupyter-widgets/controls",
     "model_module_version": "1.5.0",
     "model_name": "DescriptionStyleModel",
     "state": {
      "_model_module": "@jupyter-widgets/controls",
      "_model_module_version": "1.5.0",
      "_model_name": "DescriptionStyleModel",
      "_view_count": null,
      "_view_module": "@jupyter-widgets/base",
      "_view_module_version": "1.2.0",
      "_view_name": "StyleView",
      "description_width": ""
     }
    },
    "914b5dde13ef404388a084d7fe7afd60": {
     "model_module": "@jupyter-widgets/controls",
     "model_module_version": "1.5.0",
     "model_name": "HTMLModel",
     "state": {
      "_dom_classes": [],
      "_model_module": "@jupyter-widgets/controls",
      "_model_module_version": "1.5.0",
      "_model_name": "HTMLModel",
      "_view_count": null,
      "_view_module": "@jupyter-widgets/controls",
      "_view_module_version": "1.5.0",
      "_view_name": "HTMLView",
      "description": "",
      "description_tooltip": null,
      "layout": "IPY_MODEL_a01d5a158a6f4126962ef30a672ccf5a",
      "placeholder": "​",
      "style": "IPY_MODEL_833e3509377c404d932eac865b43f8df",
      "value": " 3/3 [00:27&lt;00:00,  8.91s/it]"
     }
    },
    "a01d5a158a6f4126962ef30a672ccf5a": {
     "model_module": "@jupyter-widgets/base",
     "model_module_version": "1.2.0",
     "model_name": "LayoutModel",
     "state": {
      "_model_module": "@jupyter-widgets/base",
      "_model_module_version": "1.2.0",
      "_model_name": "LayoutModel",
      "_view_count": null,
      "_view_module": "@jupyter-widgets/base",
      "_view_module_version": "1.2.0",
      "_view_name": "LayoutView",
      "align_content": null,
      "align_items": null,
      "align_self": null,
      "border": null,
      "bottom": null,
      "display": null,
      "flex": null,
      "flex_flow": null,
      "grid_area": null,
      "grid_auto_columns": null,
      "grid_auto_flow": null,
      "grid_auto_rows": null,
      "grid_column": null,
      "grid_gap": null,
      "grid_row": null,
      "grid_template_areas": null,
      "grid_template_columns": null,
      "grid_template_rows": null,
      "height": null,
      "justify_content": null,
      "justify_items": null,
      "left": null,
      "margin": null,
      "max_height": null,
      "max_width": null,
      "min_height": null,
      "min_width": null,
      "object_fit": null,
      "object_position": null,
      "order": null,
      "overflow": null,
      "overflow_x": null,
      "overflow_y": null,
      "padding": null,
      "right": null,
      "top": null,
      "visibility": null,
      "width": null
     }
    },
    "d1dc1617eb4e4a33b386395ffc2319a3": {
     "model_module": "@jupyter-widgets/base",
     "model_module_version": "1.2.0",
     "model_name": "LayoutModel",
     "state": {
      "_model_module": "@jupyter-widgets/base",
      "_model_module_version": "1.2.0",
      "_model_name": "LayoutModel",
      "_view_count": null,
      "_view_module": "@jupyter-widgets/base",
      "_view_module_version": "1.2.0",
      "_view_name": "LayoutView",
      "align_content": null,
      "align_items": null,
      "align_self": null,
      "border": null,
      "bottom": null,
      "display": null,
      "flex": null,
      "flex_flow": null,
      "grid_area": null,
      "grid_auto_columns": null,
      "grid_auto_flow": null,
      "grid_auto_rows": null,
      "grid_column": null,
      "grid_gap": null,
      "grid_row": null,
      "grid_template_areas": null,
      "grid_template_columns": null,
      "grid_template_rows": null,
      "height": null,
      "justify_content": null,
      "justify_items": null,
      "left": null,
      "margin": null,
      "max_height": null,
      "max_width": null,
      "min_height": null,
      "min_width": null,
      "object_fit": null,
      "object_position": null,
      "order": null,
      "overflow": null,
      "overflow_x": null,
      "overflow_y": null,
      "padding": null,
      "right": null,
      "top": null,
      "visibility": null,
      "width": null
     }
    },
    "d9587e7ab2a74bf9864138eefc1ad532": {
     "model_module": "@jupyter-widgets/base",
     "model_module_version": "1.2.0",
     "model_name": "LayoutModel",
     "state": {
      "_model_module": "@jupyter-widgets/base",
      "_model_module_version": "1.2.0",
      "_model_name": "LayoutModel",
      "_view_count": null,
      "_view_module": "@jupyter-widgets/base",
      "_view_module_version": "1.2.0",
      "_view_name": "LayoutView",
      "align_content": null,
      "align_items": null,
      "align_self": null,
      "border": null,
      "bottom": null,
      "display": null,
      "flex": null,
      "flex_flow": null,
      "grid_area": null,
      "grid_auto_columns": null,
      "grid_auto_flow": null,
      "grid_auto_rows": null,
      "grid_column": null,
      "grid_gap": null,
      "grid_row": null,
      "grid_template_areas": null,
      "grid_template_columns": null,
      "grid_template_rows": null,
      "height": null,
      "justify_content": null,
      "justify_items": null,
      "left": null,
      "margin": null,
      "max_height": null,
      "max_width": null,
      "min_height": null,
      "min_width": null,
      "object_fit": null,
      "object_position": null,
      "order": null,
      "overflow": null,
      "overflow_x": null,
      "overflow_y": null,
      "padding": null,
      "right": null,
      "top": null,
      "visibility": null,
      "width": null
     }
    }
   }
  }
 },
 "nbformat": 4,
 "nbformat_minor": 1
}
